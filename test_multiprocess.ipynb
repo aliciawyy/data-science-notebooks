{
 "cells": [
  {
   "cell_type": "code",
   "execution_count": 48,
   "metadata": {
    "collapsed": false
   },
   "outputs": [],
   "source": [
    "import numpy as np\n",
    "from sklearn.utils.extmath import cartesian\n",
    "import cProfile\n",
    "\n",
    "from core import interpolate\n",
    "reload(interpolate)\n",
    "\n",
    "def f(x,y,z):\n",
    "    return 2 * x**3 + 3 * y**2 - z\n",
    "x = np.linspace(1, 4, 110)\n",
    "y = np.linspace(4, 7, 220)\n",
    "z = np.linspace(7, 9, 220)\n",
    "data = f(*np.meshgrid(x, y, z, indexing='ij', sparse=True))\n",
    "fixed_query_pts = cartesian((np.linspace(1, 4, 1000), np.linspace(4, 7, 100), np.linspace(7, 9, 100)))\n",
    "fixed_query_pts = fixed_query_pts.reshape(1000, 100, 100, 3)"
   ]
  },
  {
   "cell_type": "code",
   "execution_count": 49,
   "metadata": {
    "collapsed": false
   },
   "outputs": [
    {
     "name": "stdout",
     "output_type": "stream",
     "text": [
      "         158 function calls in 2.966 seconds\n",
      "\n",
      "   Ordered by: cumulative time\n",
      "\n",
      "   ncalls  tottime  percall  cumtime  percall filename:lineno(function)\n",
      "        1    0.003    0.003    2.966    2.966 <string>:1(<module>)\n",
      "        1    0.002    0.002    2.962    2.962 interpolate.py:94(__init__)\n",
      "        1    0.069    0.069    2.961    2.961 interpolate.py:129(initialize)\n",
      "        1    0.926    0.926    1.922    1.922 interpolate.py:169(_init_linear)\n",
      "        1    0.566    0.566    0.967    0.967 interpolate.py:207(_find_indices)\n",
      "        8    0.494    0.062    0.625    0.078 interpolate.py:192(convert_nd_index_to_1d)\n",
      "        3    0.000    0.000    0.401    0.134 fromnumeric.py:1031(searchsorted)\n",
      "        3    0.401    0.134    0.401    0.134 {method 'searchsorted' of 'numpy.ndarray' objects}\n",
      "       24    0.371    0.015    0.371    0.015 {numpy.core.multiarray.where}\n",
      "       24    0.131    0.005    0.131    0.005 {numpy.core.multiarray.array}\n",
      "        6    0.000    0.000    0.003    0.000 fromnumeric.py:1968(all)\n",
      "        6    0.000    0.000    0.003    0.000 {method 'all' of 'numpy.ndarray' objects}\n",
      "        6    0.000    0.000    0.003    0.000 _methods.py:40(_all)\n",
      "        6    0.003    0.000    0.003    0.000 {method 'reduce' of 'numpy.ufunc' objects}\n",
      "        9    0.000    0.000    0.000    0.000 {zip}\n",
      "        3    0.000    0.000    0.000    0.000 function_base.py:1116(diff)\n",
      "        9    0.000    0.000    0.000    0.000 numeric.py:476(asanyarray)\n",
      "       22    0.000    0.000    0.000    0.000 {method 'append' of 'list' objects}\n",
      "       15    0.000    0.000    0.000    0.000 {len}\n",
      "        7    0.000    0.000    0.000    0.000 numeric.py:406(asarray)\n",
      "        1    0.000    0.000    0.000    0.000 {method 'reshape' of 'numpy.ndarray' objects}\n",
      "        1    0.000    0.000    0.000    0.000 {method 'disable' of '_lsprof.Profiler' objects}\n",
      "\n",
      "\n"
     ]
    }
   ],
   "source": [
    "cProfile.run('interp = interpolate.FixedQueryRegularGridInterpolator((x, y, z), fixed_query_pts)', sort='cumtime')"
   ]
  },
  {
   "cell_type": "code",
   "execution_count": 50,
   "metadata": {
    "collapsed": false
   },
   "outputs": [
    {
     "name": "stdout",
     "output_type": "stream",
     "text": [
      "         8 function calls in 0.517 seconds\n",
      "\n",
      "   Ordered by: cumulative time\n",
      "\n",
      "   ncalls  tottime  percall  cumtime  percall filename:lineno(function)\n",
      "        1    0.000    0.000    0.517    0.517 <string>:1(<module>)\n",
      "        1    0.508    0.508    0.508    0.508 interpolate.py:147(__call__)\n",
      "        1    0.009    0.009    0.009    0.009 {method 'flatten' of 'numpy.ndarray' objects}\n",
      "        1    0.000    0.000    0.000    0.000 fromnumeric.py:2390(prod)\n",
      "        1    0.000    0.000    0.000    0.000 _methods.py:34(_prod)\n",
      "        1    0.000    0.000    0.000    0.000 {method 'reduce' of 'numpy.ufunc' objects}\n",
      "        1    0.000    0.000    0.000    0.000 {method 'reshape' of 'numpy.ndarray' objects}\n",
      "        1    0.000    0.000    0.000    0.000 {method 'disable' of '_lsprof.Profiler' objects}\n",
      "\n",
      "\n"
     ]
    }
   ],
   "source": [
    "cProfile.run('interp(data.flatten())', sort='cumtime')"
   ]
  },
  {
   "cell_type": "code",
   "execution_count": 43,
   "metadata": {
    "collapsed": false
   },
   "outputs": [
    {
     "data": {
      "text/plain": [
       "(1000, 100, 100, 3)"
      ]
     },
     "execution_count": 43,
     "metadata": {},
     "output_type": "execute_result"
    }
   ],
   "source": [
    "fixed_query_pts.shape"
   ]
  },
  {
   "cell_type": "code",
   "execution_count": null,
   "metadata": {
    "collapsed": true
   },
   "outputs": [],
   "source": []
  }
 ],
 "metadata": {
  "kernelspec": {
   "display_name": "Python 2",
   "language": "python",
   "name": "python2"
  },
  "language_info": {
   "codemirror_mode": {
    "name": "ipython",
    "version": 2
   },
   "file_extension": ".py",
   "mimetype": "text/x-python",
   "name": "python",
   "nbconvert_exporter": "python",
   "pygments_lexer": "ipython2",
   "version": "2.7.6"
  }
 },
 "nbformat": 4,
 "nbformat_minor": 0
}
