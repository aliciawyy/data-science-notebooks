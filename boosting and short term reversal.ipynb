{
 "cells": [
  {
   "cell_type": "code",
   "execution_count": 1,
   "metadata": {
    "collapsed": true
   },
   "outputs": [],
   "source": [
    "%matplotlib inline\n",
    "from rrm_import_helper import *"
   ]
  },
  {
   "cell_type": "code",
   "execution_count": 2,
   "metadata": {
    "collapsed": true
   },
   "outputs": [],
   "source": [
    "ticker = \"SPY\"\n",
    "item = dataio.DataItem(ticker)\n",
    "data = item.raw_time_series_data"
   ]
  },
  {
   "cell_type": "code",
   "execution_count": 20,
   "metadata": {
    "collapsed": false
   },
   "outputs": [],
   "source": [
    "five_days_future = data.Close.copy()\n",
    "five_days_future = five_days_future[five_days_future.notnull()].to_frame()\n",
    "five_days_future.columns = [\"day0\"]\n",
    "\n",
    "dd6 = core.rolling_drawdown(five_days_future[\"day0\"], 6)\n",
    "five_days_future[\"dd6\"] = dd6"
   ]
  },
  {
   "cell_type": "code",
   "execution_count": 37,
   "metadata": {
    "collapsed": false
   },
   "outputs": [
    {
     "data": {
      "text/html": [
       "<div>\n",
       "<table border=\"1\" class=\"dataframe\">\n",
       "  <thead>\n",
       "    <tr style=\"text-align: right;\">\n",
       "      <th></th>\n",
       "      <th>day0</th>\n",
       "      <th>dd6</th>\n",
       "      <th>ret_minus5_now</th>\n",
       "      <th>ret5after</th>\n",
       "      <th>ret_vol</th>\n",
       "    </tr>\n",
       "  </thead>\n",
       "  <tbody>\n",
       "    <tr>\n",
       "      <th>1993-01-29</th>\n",
       "      <td>43.93800</td>\n",
       "      <td>0.000000</td>\n",
       "      <td>NaN</td>\n",
       "      <td>0.023459</td>\n",
       "      <td>NaN</td>\n",
       "    </tr>\n",
       "    <tr>\n",
       "      <th>1993-02-01</th>\n",
       "      <td>44.25000</td>\n",
       "      <td>0.000000</td>\n",
       "      <td>NaN</td>\n",
       "      <td>0.016243</td>\n",
       "      <td>NaN</td>\n",
       "    </tr>\n",
       "    <tr>\n",
       "      <th>1993-02-02</th>\n",
       "      <td>44.34375</td>\n",
       "      <td>0.000000</td>\n",
       "      <td>NaN</td>\n",
       "      <td>0.007047</td>\n",
       "      <td>NaN</td>\n",
       "    </tr>\n",
       "    <tr>\n",
       "      <th>1993-02-03</th>\n",
       "      <td>44.81250</td>\n",
       "      <td>0.000000</td>\n",
       "      <td>NaN</td>\n",
       "      <td>-0.002092</td>\n",
       "      <td>NaN</td>\n",
       "    </tr>\n",
       "    <tr>\n",
       "      <th>1993-02-04</th>\n",
       "      <td>45.00000</td>\n",
       "      <td>0.000000</td>\n",
       "      <td>NaN</td>\n",
       "      <td>-0.001389</td>\n",
       "      <td>NaN</td>\n",
       "    </tr>\n",
       "    <tr>\n",
       "      <th>1993-02-05</th>\n",
       "      <td>44.96875</td>\n",
       "      <td>-0.000694</td>\n",
       "      <td>0.023459</td>\n",
       "      <td>-0.008339</td>\n",
       "      <td>NaN</td>\n",
       "    </tr>\n",
       "    <tr>\n",
       "      <th>1993-02-08</th>\n",
       "      <td>44.96875</td>\n",
       "      <td>-0.000694</td>\n",
       "      <td>0.016243</td>\n",
       "      <td>-0.033356</td>\n",
       "      <td>NaN</td>\n",
       "    </tr>\n",
       "    <tr>\n",
       "      <th>1993-02-09</th>\n",
       "      <td>44.65625</td>\n",
       "      <td>-0.007639</td>\n",
       "      <td>0.007047</td>\n",
       "      <td>-0.027292</td>\n",
       "      <td>NaN</td>\n",
       "    </tr>\n",
       "    <tr>\n",
       "      <th>1993-02-10</th>\n",
       "      <td>44.71875</td>\n",
       "      <td>-0.007639</td>\n",
       "      <td>-0.002092</td>\n",
       "      <td>-0.029350</td>\n",
       "      <td>NaN</td>\n",
       "    </tr>\n",
       "    <tr>\n",
       "      <th>1993-02-11</th>\n",
       "      <td>44.93750</td>\n",
       "      <td>-0.007639</td>\n",
       "      <td>-0.001389</td>\n",
       "      <td>-0.030598</td>\n",
       "      <td>NaN</td>\n",
       "    </tr>\n",
       "  </tbody>\n",
       "</table>\n",
       "</div>"
      ],
      "text/plain": [
       "                day0       dd6  ret_minus5_now  ret5after  ret_vol\n",
       "1993-01-29  43.93800  0.000000             NaN   0.023459      NaN\n",
       "1993-02-01  44.25000  0.000000             NaN   0.016243      NaN\n",
       "1993-02-02  44.34375  0.000000             NaN   0.007047      NaN\n",
       "1993-02-03  44.81250  0.000000             NaN  -0.002092      NaN\n",
       "1993-02-04  45.00000  0.000000             NaN  -0.001389      NaN\n",
       "1993-02-05  44.96875 -0.000694        0.023459  -0.008339      NaN\n",
       "1993-02-08  44.96875 -0.000694        0.016243  -0.033356      NaN\n",
       "1993-02-09  44.65625 -0.007639        0.007047  -0.027292      NaN\n",
       "1993-02-10  44.71875 -0.007639       -0.002092  -0.029350      NaN\n",
       "1993-02-11  44.93750 -0.007639       -0.001389  -0.030598      NaN"
      ]
     },
     "execution_count": 37,
     "metadata": {},
     "output_type": "execute_result"
    }
   ],
   "source": [
    "five_days_future[\"ret_minus5_now\"] = five_days_future['day0'].pct_change(periods=5)\n",
    "five_days_future[\"ret_vol\"] = five_days_future[\"ret_minus5_now\"].rolling(252).std()\n",
    "five_days_future[\"ret5after\"] = five_days_future[\"ret_minus5_now\"].shift(-5)\n",
    "five_days_future.head(10)"
   ]
  },
  {
   "cell_type": "code",
   "execution_count": 272,
   "metadata": {
    "collapsed": false
   },
   "outputs": [],
   "source": [
    "threshold_dd = -0.2\n",
    "threshold_ret = 0.015\n",
    "eff_data = five_days_future[five_days_future.notnull().all(axis=1)].copy()"
   ]
  },
  {
   "cell_type": "code",
   "execution_count": 273,
   "metadata": {
    "collapsed": false
   },
   "outputs": [
    {
     "name": "stdout",
     "output_type": "stream",
     "text": [
      "Number of positive cases: 1423\n"
     ]
    }
   ],
   "source": [
    "positive_selection = (eff_data[\"dd6\"] > threshold_dd) & (eff_data[\"ret5after\"] > threshold_ret)\n",
    "print(\"Number of positive cases: {}\".format(positive_selection.sum()))\n",
    "# effective data is used to give labels  \n",
    "eff_data[\"label\"] = positive_selection"
   ]
  },
  {
   "cell_type": "code",
   "execution_count": 274,
   "metadata": {
    "collapsed": false,
    "scrolled": true
   },
   "outputs": [
    {
     "name": "stdout",
     "output_type": "stream",
     "text": [
      "Number of positive cases in final data: 277 / 1066\n"
     ]
    },
    {
     "data": {
      "text/html": [
       "<div>\n",
       "<table border=\"1\" class=\"dataframe\">\n",
       "  <thead>\n",
       "    <tr style=\"text-align: right;\">\n",
       "      <th></th>\n",
       "      <th>day0</th>\n",
       "      <th>dd6</th>\n",
       "      <th>ret_minus5_now</th>\n",
       "      <th>ret5after</th>\n",
       "      <th>ret_vol</th>\n",
       "      <th>label</th>\n",
       "    </tr>\n",
       "  </thead>\n",
       "  <tbody>\n",
       "    <tr>\n",
       "      <th>1994-02-07</th>\n",
       "      <td>47.18750</td>\n",
       "      <td>-0.027184</td>\n",
       "      <td>-0.021387</td>\n",
       "      <td>0.000662</td>\n",
       "      <td>0.012070</td>\n",
       "      <td>False</td>\n",
       "    </tr>\n",
       "    <tr>\n",
       "      <th>1994-02-14</th>\n",
       "      <td>47.21875</td>\n",
       "      <td>-0.008570</td>\n",
       "      <td>0.000662</td>\n",
       "      <td>0.002647</td>\n",
       "      <td>0.011919</td>\n",
       "      <td>False</td>\n",
       "    </tr>\n",
       "    <tr>\n",
       "      <th>1994-02-28</th>\n",
       "      <td>46.81250</td>\n",
       "      <td>-0.015842</td>\n",
       "      <td>-0.001333</td>\n",
       "      <td>0.002670</td>\n",
       "      <td>0.011271</td>\n",
       "      <td>False</td>\n",
       "    </tr>\n",
       "    <tr>\n",
       "      <th>1994-03-07</th>\n",
       "      <td>46.93750</td>\n",
       "      <td>-0.005340</td>\n",
       "      <td>0.002670</td>\n",
       "      <td>-0.000666</td>\n",
       "      <td>0.011034</td>\n",
       "      <td>False</td>\n",
       "    </tr>\n",
       "    <tr>\n",
       "      <th>1994-03-14</th>\n",
       "      <td>46.90625</td>\n",
       "      <td>-0.007984</td>\n",
       "      <td>-0.000666</td>\n",
       "      <td>-0.001332</td>\n",
       "      <td>0.010941</td>\n",
       "      <td>False</td>\n",
       "    </tr>\n",
       "  </tbody>\n",
       "</table>\n",
       "</div>"
      ],
      "text/plain": [
       "                day0       dd6  ret_minus5_now  ret5after   ret_vol  label\n",
       "1994-02-07  47.18750 -0.027184       -0.021387   0.000662  0.012070  False\n",
       "1994-02-14  47.21875 -0.008570        0.000662   0.002647  0.011919  False\n",
       "1994-02-28  46.81250 -0.015842       -0.001333   0.002670  0.011271  False\n",
       "1994-03-07  46.93750 -0.005340        0.002670  -0.000666  0.011034  False\n",
       "1994-03-14  46.90625 -0.007984       -0.000666  -0.001332  0.010941  False"
      ]
     },
     "execution_count": 274,
     "metadata": {},
     "output_type": "execute_result"
    }
   ],
   "source": [
    "final_data = eff_data.ix[eff_data.index.weekday == 0]\n",
    "print(\"Number of positive cases in final data: {} / {}\".format(final_data[\"label\"].sum(), final_data.shape[0]))\n",
    "final_data.head()"
   ]
  },
  {
   "cell_type": "code",
   "execution_count": 275,
   "metadata": {
    "collapsed": false
   },
   "outputs": [],
   "source": [
    "penalty = pd.Series(1., index=final_data.index)\n"
   ]
  },
  {
   "cell_type": "code",
   "execution_count": 276,
   "metadata": {
    "collapsed": false
   },
   "outputs": [],
   "source": [
    "X = final_data[\"ret_minus5_now\"] / final_data[\"ret_vol\"]\n",
    "X = X.to_frame()\n",
    "X.columns = [\"ret_to_vol\"]"
   ]
  },
  {
   "cell_type": "code",
   "execution_count": 277,
   "metadata": {
    "collapsed": false
   },
   "outputs": [],
   "source": [
    "momentum = (five_days_future[\"day0\"] / five_days_future[\"day0\"].rolling(20).mean() - 1)\n",
    "X[\"momentum\"] = momentum[X.index]"
   ]
  },
  {
   "cell_type": "code",
   "execution_count": 365,
   "metadata": {
    "collapsed": false
   },
   "outputs": [],
   "source": [
    "Y = final_data[\"label\"]\n",
    "#Y = 2 * Y - 1"
   ]
  },
  {
   "cell_type": "code",
   "execution_count": 349,
   "metadata": {
    "collapsed": false
   },
   "outputs": [],
   "source": [
    "penalty[(final_data[\"ret5after\"] < -0.05)] = 1."
   ]
  },
  {
   "cell_type": "code",
   "execution_count": 350,
   "metadata": {
    "collapsed": false
   },
   "outputs": [
    {
     "data": {
      "text/plain": [
       "count    1066.000000\n",
       "mean       13.537523\n",
       "std        32.939994\n",
       "min         1.000000\n",
       "25%         1.000000\n",
       "50%         1.000000\n",
       "75%         1.000000\n",
       "max       100.000000\n",
       "dtype: float64"
      ]
     },
     "execution_count": 350,
     "metadata": {},
     "output_type": "execute_result"
    }
   ],
   "source": [
    "penalty.describe()"
   ]
  },
  {
   "cell_type": "code",
   "execution_count": 376,
   "metadata": {
    "collapsed": false
   },
   "outputs": [],
   "source": [
    "def optim(X, Y, weight):\n",
    "    decision_stump = 0\n",
    "    min_error, min_col = 1000, X.columns[0]\n",
    "    for col in X.columns:\n",
    "        feature0 = X[col]\n",
    "        for stump in np.linspace(feature0.min(), feature0.max(), 50):\n",
    "            Y_pred = feature0 < stump\n",
    "            misclassified = Y_pred != Y\n",
    "            error = weight[misclassified].sum()\n",
    "            #print(\"error {}: positive case num: {} - misclassified num: {} - stump: {}\".format(error, Y_pred.sum(), misclassified.sum(), stump))\n",
    "            if error < min_error:\n",
    "                decision_stump = stump\n",
    "                min_error, min_col = error, col\n",
    "    print(\"Decision stump: {} - min error: {}, min col: {}\".format(decision_stump, min_error, min_col))\n",
    "    return decision_stump, min_error, min_col"
   ]
  },
  {
   "cell_type": "code",
   "execution_count": 435,
   "metadata": {
    "collapsed": false
   },
   "outputs": [
    {
     "name": "stdout",
     "output_type": "stream",
     "text": [
      "Decision stump: -3.47089913103 - min error: 0.0475181063416, min col: ret_to_vol\n",
      "Decision stump: 2.76873519213 - min error: 0.00716401227982, min col: ret_to_vol\n",
      "Decision stump: -3.47089913103 - min error: 0.0071628856287, min col: ret_to_vol\n",
      "Decision stump: 0.0629337906495 - min error: 0.00711696544407, min col: momentum\n",
      "Decision stump: -3.47089913103 - min error: 0.00711663628912, min col: ret_to_vol\n"
     ]
    }
   ],
   "source": [
    "global_predictor = []\n",
    "weight = pd.Series(1. / eff_data.shape[0], index=final_data.index)\n",
    "for i in range(5):\n",
    "    decision_stump, min_error, min_col = optim(X, Y, weight)\n",
    "    coef = (1 - min_error) / min_error\n",
    "    global_predictor.append((decision_stump, min_col, np.log(coef)))\n",
    "    pred = X[min_col] < decision_stump\n",
    "    #print(\"{}:predict positive: {}\".format(i, pred[pred].index))\n",
    "    weight[pred == Y] *= 1/coef\n",
    "    weight[pred != Y] *= coef\n",
    "    weight /= weight.sum()\n",
    "    "
   ]
  },
  {
   "cell_type": "code",
   "execution_count": 434,
   "metadata": {
    "collapsed": false
   },
   "outputs": [
    {
     "data": {
      "text/plain": [
       "[(-3.4708991310273496, 'ret_to_vol', 2.9979602729903037),\n",
       " (2.7687351921251411, 'ret_to_vol', 4.9314952836465968),\n",
       " (-3.4708991310273496, 'ret_to_vol', 4.9316536961744397),\n",
       " (0.062933790649462779, 'momentum', 4.9381314342343421),\n",
       " (-3.4708991310273496, 'ret_to_vol', 4.9381780161577282),\n",
       " (2.7687351921251411, 'ret_to_vol', 4.9381785575007138),\n",
       " (-3.4708991310273496, 'ret_to_vol', 4.9381785613808677),\n",
       " (0.062933790649462779, 'momentum', 4.9381788952402079)]"
      ]
     },
     "execution_count": 434,
     "metadata": {},
     "output_type": "execute_result"
    }
   ],
   "source": [
    "global_predictor"
   ]
  },
  {
   "cell_type": "code",
   "execution_count": 446,
   "metadata": {
    "collapsed": false
   },
   "outputs": [],
   "source": [
    "res = 0.\n",
    "for pred in global_predictor[:8]:\n",
    "    tmp = X[pred[1]] < pred[0]\n",
    "    res += (2 * tmp - 1) * pred[2]\n",
    "buying_dates = res[res > 0].index"
   ]
  },
  {
   "cell_type": "code",
   "execution_count": 443,
   "metadata": {
    "collapsed": false
   },
   "outputs": [
    {
     "data": {
      "text/html": [
       "<div>\n",
       "<table border=\"1\" class=\"dataframe\">\n",
       "  <thead>\n",
       "    <tr style=\"text-align: right;\">\n",
       "      <th></th>\n",
       "      <th>ret_to_vol</th>\n",
       "      <th>momentum</th>\n",
       "    </tr>\n",
       "  </thead>\n",
       "  <tbody>\n",
       "    <tr>\n",
       "      <th>count</th>\n",
       "      <td>1066.000000</td>\n",
       "      <td>1066.000000</td>\n",
       "    </tr>\n",
       "    <tr>\n",
       "      <th>mean</th>\n",
       "      <td>0.093307</td>\n",
       "      <td>0.002552</td>\n",
       "    </tr>\n",
       "    <tr>\n",
       "      <th>std</th>\n",
       "      <td>1.119182</td>\n",
       "      <td>0.026142</td>\n",
       "    </tr>\n",
       "    <tr>\n",
       "      <th>min</th>\n",
       "      <td>-5.966753</td>\n",
       "      <td>-0.144193</td>\n",
       "    </tr>\n",
       "    <tr>\n",
       "      <th>25%</th>\n",
       "      <td>-0.512919</td>\n",
       "      <td>-0.009444</td>\n",
       "    </tr>\n",
       "    <tr>\n",
       "      <th>50%</th>\n",
       "      <td>0.133842</td>\n",
       "      <td>0.005244</td>\n",
       "    </tr>\n",
       "    <tr>\n",
       "      <th>75%</th>\n",
       "      <td>0.795968</td>\n",
       "      <td>0.019144</td>\n",
       "    </tr>\n",
       "    <tr>\n",
       "      <th>max</th>\n",
       "      <td>4.224650</td>\n",
       "      <td>0.103349</td>\n",
       "    </tr>\n",
       "  </tbody>\n",
       "</table>\n",
       "</div>"
      ],
      "text/plain": [
       "        ret_to_vol     momentum\n",
       "count  1066.000000  1066.000000\n",
       "mean      0.093307     0.002552\n",
       "std       1.119182     0.026142\n",
       "min      -5.966753    -0.144193\n",
       "25%      -0.512919    -0.009444\n",
       "50%       0.133842     0.005244\n",
       "75%       0.795968     0.019144\n",
       "max       4.224650     0.103349"
      ]
     },
     "execution_count": 443,
     "metadata": {},
     "output_type": "execute_result"
    }
   ],
   "source": [
    "X.describe()"
   ]
  },
  {
   "cell_type": "code",
   "execution_count": 444,
   "metadata": {
    "collapsed": true
   },
   "outputs": [],
   "source": [
    "buying_dates = feature0[feature0 < decision_stump].index"
   ]
  },
  {
   "cell_type": "code",
   "execution_count": 445,
   "metadata": {
    "collapsed": true
   },
   "outputs": [],
   "source": [
    "buying_dates = final_data[\"label\"][final_data[\"label\"]].index"
   ]
  },
  {
   "cell_type": "code",
   "execution_count": null,
   "metadata": {
    "collapsed": true
   },
   "outputs": [],
   "source": []
  },
  {
   "cell_type": "code",
   "execution_count": 440,
   "metadata": {
    "collapsed": false
   },
   "outputs": [
    {
     "name": "stdout",
     "output_type": "stream",
     "text": [
      "num buying dates: 8\n"
     ]
    }
   ],
   "source": [
    "print(\"num buying dates: {}\".format(len(buying_dates)))\n",
    "alloc = pd.Series(0., index=data.index)\n",
    "alloc[buying_dates] = 1.\n",
    "alloc = alloc.rolling(6, min_periods=1).max()"
   ]
  },
  {
   "cell_type": "code",
   "execution_count": 447,
   "metadata": {
    "collapsed": false
   },
   "outputs": [
    {
     "data": {
      "text/html": [
       "<div>\n",
       "<table border=\"1\" class=\"dataframe\">\n",
       "  <thead>\n",
       "    <tr style=\"text-align: right;\">\n",
       "      <th></th>\n",
       "      <th>SPY</th>\n",
       "      <th>strat</th>\n",
       "    </tr>\n",
       "  </thead>\n",
       "  <tbody>\n",
       "    <tr>\n",
       "      <th>net perf/dd</th>\n",
       "      <td>0.124080</td>\n",
       "      <td>0.513329</td>\n",
       "    </tr>\n",
       "    <tr>\n",
       "      <th>Sharpe</th>\n",
       "      <td>0.372541</td>\n",
       "      <td>0.523319</td>\n",
       "    </tr>\n",
       "    <tr>\n",
       "      <th>perf</th>\n",
       "      <td>0.070072</td>\n",
       "      <td>0.022678</td>\n",
       "    </tr>\n",
       "    <tr>\n",
       "      <th>net perf</th>\n",
       "      <td>0.070072</td>\n",
       "      <td>0.022678</td>\n",
       "    </tr>\n",
       "    <tr>\n",
       "      <th>dd</th>\n",
       "      <td>0.564737</td>\n",
       "      <td>0.044178</td>\n",
       "    </tr>\n",
       "    <tr>\n",
       "      <th>vol</th>\n",
       "      <td>0.188093</td>\n",
       "      <td>0.043334</td>\n",
       "    </tr>\n",
       "  </tbody>\n",
       "</table>\n",
       "</div>"
      ],
      "text/plain": [
       "                  SPY     strat\n",
       "net perf/dd  0.124080  0.513329\n",
       "Sharpe       0.372541  0.523319\n",
       "perf         0.070072  0.022678\n",
       "net perf     0.070072  0.022678\n",
       "dd           0.564737  0.044178\n",
       "vol          0.188093  0.043334"
      ]
     },
     "execution_count": 447,
     "metadata": {},
     "output_type": "execute_result"
    },
    {
     "data": {
      "image/png": "[encoded data removed]",
      "text/plain": [
       "<matplotlib.figure.Figure at 0x7fbdb6fb91d0>"
      ]
     },
     "metadata": {},
     "output_type": "display_data"
    }
   ],
   "source": [
    "figsize(15, 6)\n",
    "df = five_days_future[\"day0\"].pct_change().to_frame()\n",
    "df.columns = [ticker]\n",
    "df['strat'] = df[ticker] * alloc.shift(1)\n",
    "core.cumsum_log(df).plot()\n",
    "core.quick_stats(df, \"zero\")"
   ]
  },
  {
   "cell_type": "code",
   "execution_count": 308,
   "metadata": {
    "collapsed": false
   },
   "outputs": [
    {
     "data": {
      "text/plain": [
       "DatetimeIndex(['1994-04-04', '1997-10-27', '1998-08-31', '2002-07-22',\n",
       "               '2007-03-05', '2008-10-27', '2011-08-08', '2015-08-24'],\n",
       "              dtype='datetime64[ns]', freq=None)"
      ]
     },
     "execution_count": 308,
     "metadata": {},
     "output_type": "execute_result"
    }
   ],
   "source": [
    "buying_dates"
   ]
  },
  {
   "cell_type": "code",
   "execution_count": 344,
   "metadata": {
    "collapsed": false
   },
   "outputs": [
    {
     "data": {
      "text/plain": [
       "1998-08-31     96.00000\n",
       "1998-09-01    100.06250\n",
       "1998-09-02     99.34375\n",
       "1998-09-03     98.56250\n",
       "1998-09-04     97.75000\n",
       "Name: day0, dtype: float64"
      ]
     },
     "execution_count": 344,
     "metadata": {},
     "output_type": "execute_result"
    }
   ],
   "source": [
    "five_days_future[\"day0\"][alloc > 0.2].ix[\"1998\"]"
   ]
  },
  {
   "cell_type": "code",
   "execution_count": 345,
   "metadata": {
    "collapsed": false
   },
   "outputs": [
    {
     "data": {
      "text/html": [
       "<div>\n",
       "<table border=\"1\" class=\"dataframe\">\n",
       "  <thead>\n",
       "    <tr style=\"text-align: right;\">\n",
       "      <th></th>\n",
       "      <th>SPY</th>\n",
       "      <th>strat</th>\n",
       "    </tr>\n",
       "  </thead>\n",
       "  <tbody>\n",
       "    <tr>\n",
       "      <th>1998-08-03</th>\n",
       "      <td>-0.004194</td>\n",
       "      <td>-0.000000</td>\n",
       "    </tr>\n",
       "    <tr>\n",
       "      <th>1998-08-04</th>\n",
       "      <td>-0.038742</td>\n",
       "      <td>-0.000000</td>\n",
       "    </tr>\n",
       "    <tr>\n",
       "      <th>1998-08-05</th>\n",
       "      <td>0.013727</td>\n",
       "      <td>0.000000</td>\n",
       "    </tr>\n",
       "    <tr>\n",
       "      <th>1998-08-06</th>\n",
       "      <td>0.004321</td>\n",
       "      <td>0.000000</td>\n",
       "    </tr>\n",
       "    <tr>\n",
       "      <th>1998-08-07</th>\n",
       "      <td>0.001721</td>\n",
       "      <td>0.000000</td>\n",
       "    </tr>\n",
       "    <tr>\n",
       "      <th>1998-08-10</th>\n",
       "      <td>-0.005727</td>\n",
       "      <td>-0.000000</td>\n",
       "    </tr>\n",
       "    <tr>\n",
       "      <th>1998-08-11</th>\n",
       "      <td>-0.014977</td>\n",
       "      <td>-0.000000</td>\n",
       "    </tr>\n",
       "    <tr>\n",
       "      <th>1998-08-12</th>\n",
       "      <td>0.016959</td>\n",
       "      <td>0.000000</td>\n",
       "    </tr>\n",
       "    <tr>\n",
       "      <th>1998-08-13</th>\n",
       "      <td>-0.012076</td>\n",
       "      <td>-0.000000</td>\n",
       "    </tr>\n",
       "    <tr>\n",
       "      <th>1998-08-14</th>\n",
       "      <td>-0.011641</td>\n",
       "      <td>-0.000000</td>\n",
       "    </tr>\n",
       "    <tr>\n",
       "      <th>1998-08-17</th>\n",
       "      <td>0.021201</td>\n",
       "      <td>0.000000</td>\n",
       "    </tr>\n",
       "    <tr>\n",
       "      <th>1998-08-18</th>\n",
       "      <td>0.018454</td>\n",
       "      <td>0.000000</td>\n",
       "    </tr>\n",
       "    <tr>\n",
       "      <th>1998-08-19</th>\n",
       "      <td>-0.002548</td>\n",
       "      <td>-0.000000</td>\n",
       "    </tr>\n",
       "    <tr>\n",
       "      <th>1998-08-20</th>\n",
       "      <td>-0.005961</td>\n",
       "      <td>-0.000000</td>\n",
       "    </tr>\n",
       "    <tr>\n",
       "      <th>1998-08-21</th>\n",
       "      <td>-0.007995</td>\n",
       "      <td>-0.000000</td>\n",
       "    </tr>\n",
       "    <tr>\n",
       "      <th>1998-08-24</th>\n",
       "      <td>0.006333</td>\n",
       "      <td>0.000000</td>\n",
       "    </tr>\n",
       "    <tr>\n",
       "      <th>1998-08-25</th>\n",
       "      <td>0.002288</td>\n",
       "      <td>0.000000</td>\n",
       "    </tr>\n",
       "    <tr>\n",
       "      <th>1998-08-26</th>\n",
       "      <td>-0.005708</td>\n",
       "      <td>-0.000000</td>\n",
       "    </tr>\n",
       "    <tr>\n",
       "      <th>1998-08-27</th>\n",
       "      <td>-0.047072</td>\n",
       "      <td>-0.000000</td>\n",
       "    </tr>\n",
       "    <tr>\n",
       "      <th>1998-08-28</th>\n",
       "      <td>-0.003614</td>\n",
       "      <td>-0.000000</td>\n",
       "    </tr>\n",
       "    <tr>\n",
       "      <th>1998-08-31</th>\n",
       "      <td>-0.071342</td>\n",
       "      <td>-0.071342</td>\n",
       "    </tr>\n",
       "  </tbody>\n",
       "</table>\n",
       "</div>"
      ],
      "text/plain": [
       "                 SPY     strat\n",
       "1998-08-03 -0.004194 -0.000000\n",
       "1998-08-04 -0.038742 -0.000000\n",
       "1998-08-05  0.013727  0.000000\n",
       "1998-08-06  0.004321  0.000000\n",
       "1998-08-07  0.001721  0.000000\n",
       "1998-08-10 -0.005727 -0.000000\n",
       "1998-08-11 -0.014977 -0.000000\n",
       "1998-08-12  0.016959  0.000000\n",
       "1998-08-13 -0.012076 -0.000000\n",
       "1998-08-14 -0.011641 -0.000000\n",
       "1998-08-17  0.021201  0.000000\n",
       "1998-08-18  0.018454  0.000000\n",
       "1998-08-19 -0.002548 -0.000000\n",
       "1998-08-20 -0.005961 -0.000000\n",
       "1998-08-21 -0.007995 -0.000000\n",
       "1998-08-24  0.006333  0.000000\n",
       "1998-08-25  0.002288  0.000000\n",
       "1998-08-26 -0.005708 -0.000000\n",
       "1998-08-27 -0.047072 -0.000000\n",
       "1998-08-28 -0.003614 -0.000000\n",
       "1998-08-31 -0.071342 -0.071342"
      ]
     },
     "execution_count": 345,
     "metadata": {},
     "output_type": "execute_result"
    }
   ],
   "source": [
    "df.ix[\"1998-08\"]"
   ]
  },
  {
   "cell_type": "code",
   "execution_count": null,
   "metadata": {
    "collapsed": true
   },
   "outputs": [],
   "source": []
  }
 ],
 "metadata": {
  "kernelspec": {
   "display_name": "Python 2",
   "language": "python",
   "name": "python2"
  },
  "language_info": {
   "codemirror_mode": {
    "name": "ipython",
    "version": 2
   },
   "file_extension": ".py",
   "mimetype": "text/x-python",
   "name": "python",
   "nbconvert_exporter": "python",
   "pygments_lexer": "ipython2",
   "version": "2.7.6"
  }
 },
 "nbformat": 4,
 "nbformat_minor": 0
}
