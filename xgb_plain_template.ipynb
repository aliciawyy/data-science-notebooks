{
 "cells": [
  {
   "cell_type": "code",
   "execution_count": 1,
   "metadata": {
    "collapsed": false
   },
   "outputs": [
    {
     "name": "stderr",
     "output_type": "stream",
     "text": [
      "/usr/local/lib/python2.7/dist-packages/sklearn/cross_validation.py:44: DeprecationWarning: This module was deprecated in version 0.18 in favor of the model_selection module into which all the refactored classes and functions are moved. Also note that the interface of the new CV iterators are different from that of this module. This module will be removed in 0.20.\n",
      "  \"This module will be removed in 0.20.\", DeprecationWarning)\n"
     ]
    }
   ],
   "source": [
    "import numpy as np\n",
    "import pandas as pd\n",
    "from sklearn.metrics import mean_absolute_error\n",
    "from sklearn.model_selection import KFold\n",
    "from sklearn import preprocessing\n",
    "import xgboost as xgb\n",
    "%matplotlib inline\n",
    "\n",
    "from os import path\n",
    "to_filename = lambda name: path.join(\"..\", \"data\", \"allstate\", name +\".csv\")"
   ]
  },
  {
   "cell_type": "code",
   "execution_count": 2,
   "metadata": {
    "collapsed": false
   },
   "outputs": [
    {
     "name": "stdout",
     "output_type": "stream",
     "text": [
      "shape: train (188318, 131), test (125546, 130)\n",
      "   cat1 cat2 cat3 cat4 cat5 cat6 cat7 cat8 cat9 cat10   ...        cont6  \\\n",
      "id                                                      ...                \n",
      "1     A    B    A    B    A    A    A    A    B     A   ...     0.718367   \n",
      "2     A    B    A    A    A    A    A    A    B     B   ...     0.438917   \n",
      "\n",
      "       cont7    cont8    cont9   cont10    cont11    cont12    cont13  \\\n",
      "id                                                                      \n",
      "1   0.335060  0.30260  0.67135  0.83510  0.569745  0.594646  0.822493   \n",
      "2   0.436585  0.60087  0.35127  0.43919  0.338312  0.366307  0.611431   \n",
      "\n",
      "      cont14     loss  \n",
      "id                     \n",
      "1   0.714843  2213.18  \n",
      "2   0.304496  1283.60  \n",
      "\n",
      "[2 rows x 131 columns]\n"
     ]
    }
   ],
   "source": [
    "train = pd.read_csv(to_filename(\"train\"), index_col=0)\n",
    "test = pd.read_csv(to_filename(\"test\"), index_col=0)\n",
    "print(\"shape: train {}, test {}\".format(train.shape, test.shape))\n",
    "print(train.head(2))"
   ]
  },
  {
   "cell_type": "code",
   "execution_count": 3,
   "metadata": {
    "collapsed": false
   },
   "outputs": [
    {
     "name": "stdout",
     "output_type": "stream",
     "text": [
      "('Categorical columns:', ['cat1', 'cat2', 'cat3', 'cat4', 'cat5', 'cat6', 'cat7', 'cat8', 'cat9', 'cat10', 'cat11', 'cat12', 'cat13', 'cat14', 'cat15', 'cat16', 'cat17', 'cat18', 'cat19', 'cat20', 'cat21', 'cat22', 'cat23', 'cat24', 'cat25', 'cat26', 'cat27', 'cat28', 'cat29', 'cat30', 'cat31', 'cat32', 'cat33', 'cat34', 'cat35', 'cat36', 'cat37', 'cat38', 'cat39', 'cat40', 'cat41', 'cat42', 'cat43', 'cat44', 'cat45', 'cat46', 'cat47', 'cat48', 'cat49', 'cat50', 'cat51', 'cat52', 'cat53', 'cat54', 'cat55', 'cat56', 'cat57', 'cat58', 'cat59', 'cat60', 'cat61', 'cat62', 'cat63', 'cat64', 'cat65', 'cat66', 'cat67', 'cat68', 'cat69', 'cat70', 'cat71', 'cat72', 'cat73', 'cat74', 'cat75', 'cat76', 'cat77', 'cat78', 'cat79', 'cat80', 'cat81', 'cat82', 'cat83', 'cat84', 'cat85', 'cat86', 'cat87', 'cat88', 'cat89', 'cat90', 'cat91', 'cat92', 'cat93', 'cat94', 'cat95', 'cat96', 'cat97', 'cat98', 'cat99', 'cat100', 'cat101', 'cat102', 'cat103', 'cat104', 'cat105', 'cat106', 'cat107', 'cat108', 'cat109', 'cat110', 'cat111', 'cat112', 'cat113', 'cat114', 'cat115', 'cat116'])\n"
     ]
    }
   ],
   "source": [
    "cat_features = [col for col in train.columns if col.startswith(\"cat\")]\n",
    "print(\"Categorical columns:\", cat_features)"
   ]
  },
  {
   "cell_type": "code",
   "execution_count": 4,
   "metadata": {
    "collapsed": false
   },
   "outputs": [],
   "source": [
    "# Encode the labels to int\n",
    "for col in cat_features:\n",
    "    encd = preprocessing.LabelEncoder()\n",
    "    encd.fit(train[col].value_counts().index.union(test[col].value_counts().index))\n",
    "    train[col] = encd.transform(train[col])\n",
    "    test[col] = encd.transform(test[col])"
   ]
  },
  {
   "cell_type": "code",
   "execution_count": 5,
   "metadata": {
    "collapsed": false
   },
   "outputs": [],
   "source": [
    "params = {'objective':\"reg:linear\", 'silent': True}\n",
    "params['eta'] = 0.075\n",
    "params['max_depth'] = 6\n",
    "params['subsample'] = 0.7\n",
    "params['colsample_bytree'] = 0.7\n",
    "params['min_child_weight'] = 100\n",
    "params['silent'] = True\n",
    "params['eval_metric'] = \"mae\""
   ]
  },
  {
   "cell_type": "code",
   "execution_count": 6,
   "metadata": {
    "collapsed": false
   },
   "outputs": [],
   "source": [
    "dtrain = xgb.DMatrix(train.drop(\"loss\", 1), train.loss)"
   ]
  },
  {
   "cell_type": "code",
   "execution_count": 8,
   "metadata": {
    "collapsed": false
   },
   "outputs": [],
   "source": [
    "cvresult = xgb.cv(params, dtrain, nfold=5)"
   ]
  },
  {
   "cell_type": "code",
   "execution_count": 12,
   "metadata": {
    "collapsed": false
   },
   "outputs": [
    {
     "name": "stdout",
     "output_type": "stream",
     "text": [
      "('optimum number of trees required', 10)\n"
     ]
    }
   ],
   "source": [
    "print(\"optimum number of trees required\", cvresult.shape[0])\n",
    "params[\"n_estimators\"] = cvresult.shape[0]"
   ]
  },
  {
   "cell_type": "code",
   "execution_count": 13,
   "metadata": {
    "collapsed": false
   },
   "outputs": [
    {
     "data": {
      "text/html": [
       "<div>\n",
       "<table border=\"1\" class=\"dataframe\">\n",
       "  <thead>\n",
       "    <tr style=\"text-align: right;\">\n",
       "      <th></th>\n",
       "      <th>test-mae-mean</th>\n",
       "      <th>test-mae-std</th>\n",
       "      <th>train-mae-mean</th>\n",
       "      <th>train-mae-std</th>\n",
       "    </tr>\n",
       "  </thead>\n",
       "  <tbody>\n",
       "    <tr>\n",
       "      <th>0</th>\n",
       "      <td>2809.273828</td>\n",
       "      <td>19.785770</td>\n",
       "      <td>2809.191553</td>\n",
       "      <td>4.752880</td>\n",
       "    </tr>\n",
       "    <tr>\n",
       "      <th>1</th>\n",
       "      <td>2600.462060</td>\n",
       "      <td>19.445231</td>\n",
       "      <td>2600.376465</td>\n",
       "      <td>4.462088</td>\n",
       "    </tr>\n",
       "    <tr>\n",
       "      <th>2</th>\n",
       "      <td>2410.862793</td>\n",
       "      <td>19.189851</td>\n",
       "      <td>2410.604004</td>\n",
       "      <td>4.213221</td>\n",
       "    </tr>\n",
       "    <tr>\n",
       "      <th>3</th>\n",
       "      <td>2240.740918</td>\n",
       "      <td>18.738684</td>\n",
       "      <td>2240.278027</td>\n",
       "      <td>3.816485</td>\n",
       "    </tr>\n",
       "    <tr>\n",
       "      <th>4</th>\n",
       "      <td>2091.144971</td>\n",
       "      <td>17.594359</td>\n",
       "      <td>2090.551807</td>\n",
       "      <td>4.000692</td>\n",
       "    </tr>\n",
       "    <tr>\n",
       "      <th>5</th>\n",
       "      <td>1960.201196</td>\n",
       "      <td>16.846711</td>\n",
       "      <td>1959.540991</td>\n",
       "      <td>3.529448</td>\n",
       "    </tr>\n",
       "    <tr>\n",
       "      <th>6</th>\n",
       "      <td>1847.905737</td>\n",
       "      <td>15.858236</td>\n",
       "      <td>1846.928052</td>\n",
       "      <td>3.600533</td>\n",
       "    </tr>\n",
       "    <tr>\n",
       "      <th>7</th>\n",
       "      <td>1751.788843</td>\n",
       "      <td>14.658559</td>\n",
       "      <td>1750.625342</td>\n",
       "      <td>3.533084</td>\n",
       "    </tr>\n",
       "    <tr>\n",
       "      <th>8</th>\n",
       "      <td>1670.096362</td>\n",
       "      <td>13.763266</td>\n",
       "      <td>1668.526489</td>\n",
       "      <td>3.575291</td>\n",
       "    </tr>\n",
       "    <tr>\n",
       "      <th>9</th>\n",
       "      <td>1602.080762</td>\n",
       "      <td>13.155365</td>\n",
       "      <td>1600.030469</td>\n",
       "      <td>3.510591</td>\n",
       "    </tr>\n",
       "  </tbody>\n",
       "</table>\n",
       "</div>"
      ],
      "text/plain": [
       "   test-mae-mean  test-mae-std  train-mae-mean  train-mae-std\n",
       "0    2809.273828     19.785770     2809.191553       4.752880\n",
       "1    2600.462060     19.445231     2600.376465       4.462088\n",
       "2    2410.862793     19.189851     2410.604004       4.213221\n",
       "3    2240.740918     18.738684     2240.278027       3.816485\n",
       "4    2091.144971     17.594359     2090.551807       4.000692\n",
       "5    1960.201196     16.846711     1959.540991       3.529448\n",
       "6    1847.905737     15.858236     1846.928052       3.600533\n",
       "7    1751.788843     14.658559     1750.625342       3.533084\n",
       "8    1670.096362     13.763266     1668.526489       3.575291\n",
       "9    1602.080762     13.155365     1600.030469       3.510591"
      ]
     },
     "execution_count": 13,
     "metadata": {},
     "output_type": "execute_result"
    }
   ],
   "source": [
    "cvresult"
   ]
  },
  {
   "cell_type": "code",
   "execution_count": 17,
   "metadata": {
    "collapsed": false
   },
   "outputs": [
    {
     "name": "stdout",
     "output_type": "stream",
     "text": [
      "[0]\ttrain-mae:2809.31\n",
      "[1]\ttrain-mae:2600.53\n",
      "[2]\ttrain-mae:2411.12\n",
      "[3]\ttrain-mae:2241.31\n",
      "[4]\ttrain-mae:2092.39\n",
      "[5]\ttrain-mae:1961.44\n",
      "[6]\ttrain-mae:1847.86\n",
      "[7]\ttrain-mae:1751.61\n",
      "[8]\ttrain-mae:1670.94\n",
      "[9]\ttrain-mae:1601.78\n",
      "[10]\ttrain-mae:1542\n",
      "[11]\ttrain-mae:1491.98\n",
      "[12]\ttrain-mae:1450.66\n",
      "[13]\ttrain-mae:1416.39\n",
      "[14]\ttrain-mae:1387.53\n",
      "[15]\ttrain-mae:1363.64\n",
      "[16]\ttrain-mae:1344.22\n",
      "[17]\ttrain-mae:1327.29\n",
      "[18]\ttrain-mae:1313.75\n",
      "[19]\ttrain-mae:1301.8\n",
      "[20]\ttrain-mae:1292.35\n",
      "[21]\ttrain-mae:1284.34\n",
      "[22]\ttrain-mae:1277.39\n",
      "[23]\ttrain-mae:1271.21\n",
      "[24]\ttrain-mae:1266.5\n",
      "[25]\ttrain-mae:1261.55\n",
      "[26]\ttrain-mae:1259.07\n",
      "[27]\ttrain-mae:1257.25\n",
      "[28]\ttrain-mae:1253.29\n",
      "[29]\ttrain-mae:1251.68\n",
      "[30]\ttrain-mae:1249.83\n",
      "[31]\ttrain-mae:1248.25\n",
      "[32]\ttrain-mae:1247.05\n",
      "[33]\ttrain-mae:1245.69\n",
      "[34]\ttrain-mae:1245.14\n",
      "[35]\ttrain-mae:1243.58\n",
      "[36]\ttrain-mae:1242.53\n",
      "[37]\ttrain-mae:1240.93\n",
      "[38]\ttrain-mae:1240.18\n",
      "[39]\ttrain-mae:1239.75\n",
      "[40]\ttrain-mae:1239.03\n",
      "[41]\ttrain-mae:1238.58\n",
      "[42]\ttrain-mae:1236.74\n",
      "[43]\ttrain-mae:1236.6\n",
      "[44]\ttrain-mae:1234.77\n",
      "[45]\ttrain-mae:1233.21\n",
      "[46]\ttrain-mae:1232.19\n",
      "[47]\ttrain-mae:1231.39\n",
      "[48]\ttrain-mae:1230.73\n",
      "[49]\ttrain-mae:1229.29\n"
     ]
    }
   ],
   "source": [
    "params['seed'] = 1\n",
    "clf = xgb.train(params, dtrain, num_boost_round=50, evals=[(dtrain, \"train\")])"
   ]
  },
  {
   "cell_type": "code",
   "execution_count": 20,
   "metadata": {
    "collapsed": false
   },
   "outputs": [],
   "source": [
    "dtest = xgb.DMatrix(test)\n",
    "pred_test = clf.predict(dtest)"
   ]
  },
  {
   "cell_type": "code",
   "execution_count": 32,
   "metadata": {
    "collapsed": false
   },
   "outputs": [],
   "source": [
    "import datetime\n",
    "result = pd.DataFrame({\"id\": test.index, \"loss\": pred_test})\n",
    "result.to_csv(\"result{:%Y%m%d%H}.csv\".format(datetime.datetime.now()), index=None)"
   ]
  },
  {
   "cell_type": "code",
   "execution_count": null,
   "metadata": {
    "collapsed": true
   },
   "outputs": [],
   "source": []
  }
 ],
 "metadata": {
  "kernelspec": {
   "display_name": "Python 2",
   "language": "python",
   "name": "python2"
  },
  "language_info": {
   "codemirror_mode": {
    "name": "ipython",
    "version": 2
   },
   "file_extension": ".py",
   "mimetype": "text/x-python",
   "name": "python",
   "nbconvert_exporter": "python",
   "pygments_lexer": "ipython2",
   "version": "2.7.6"
  }
 },
 "nbformat": 4,
 "nbformat_minor": 0
}
