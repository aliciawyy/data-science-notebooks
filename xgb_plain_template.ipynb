{
 "cells": [
  {
   "cell_type": "code",
   "execution_count": 72,
   "metadata": {
    "collapsed": false
   },
   "outputs": [],
   "source": [
    "import numpy as np\n",
    "import pandas as pd\n",
    "from sklearn.metrics import mean_absolute_error\n",
    "from sklearn.model_selection import KFold\n",
    "from sklearn import preprocessing\n",
    "from IPython.core.pylabtools import figsize\n",
    "import xgboost as xgb\n",
    "%matplotlib inline\n",
    "\n",
    "from os import path\n",
    "to_filename = lambda name: path.join(\"..\", \"data\", \"allstate\", name +\".csv\")"
   ]
  },
  {
   "cell_type": "code",
   "execution_count": 2,
   "metadata": {
    "collapsed": false
   },
   "outputs": [
    {
     "name": "stdout",
     "output_type": "stream",
     "text": [
      "shape: train (188318, 131), test (125546, 130)\n",
      "   cat1 cat2 cat3 cat4 cat5 cat6 cat7 cat8 cat9 cat10   ...        cont6  \\\n",
      "id                                                      ...                \n",
      "1     A    B    A    B    A    A    A    A    B     A   ...     0.718367   \n",
      "2     A    B    A    A    A    A    A    A    B     B   ...     0.438917   \n",
      "\n",
      "       cont7    cont8    cont9   cont10    cont11    cont12    cont13  \\\n",
      "id                                                                      \n",
      "1   0.335060  0.30260  0.67135  0.83510  0.569745  0.594646  0.822493   \n",
      "2   0.436585  0.60087  0.35127  0.43919  0.338312  0.366307  0.611431   \n",
      "\n",
      "      cont14     loss  \n",
      "id                     \n",
      "1   0.714843  2213.18  \n",
      "2   0.304496  1283.60  \n",
      "\n",
      "[2 rows x 131 columns]\n"
     ]
    }
   ],
   "source": [
    "train = pd.read_csv(to_filename(\"train\"), index_col=0)\n",
    "test = pd.read_csv(to_filename(\"test\"), index_col=0)\n",
    "print(\"shape: train {}, test {}\".format(train.shape, test.shape))\n",
    "print(train.head(2))"
   ]
  },
  {
   "cell_type": "code",
   "execution_count": 3,
   "metadata": {
    "collapsed": false
   },
   "outputs": [
    {
     "name": "stdout",
     "output_type": "stream",
     "text": [
      "('Categorical columns:', ['cat1', 'cat2', 'cat3', 'cat4', 'cat5', 'cat6', 'cat7', 'cat8', 'cat9', 'cat10', 'cat11', 'cat12', 'cat13', 'cat14', 'cat15', 'cat16', 'cat17', 'cat18', 'cat19', 'cat20', 'cat21', 'cat22', 'cat23', 'cat24', 'cat25', 'cat26', 'cat27', 'cat28', 'cat29', 'cat30', 'cat31', 'cat32', 'cat33', 'cat34', 'cat35', 'cat36', 'cat37', 'cat38', 'cat39', 'cat40', 'cat41', 'cat42', 'cat43', 'cat44', 'cat45', 'cat46', 'cat47', 'cat48', 'cat49', 'cat50', 'cat51', 'cat52', 'cat53', 'cat54', 'cat55', 'cat56', 'cat57', 'cat58', 'cat59', 'cat60', 'cat61', 'cat62', 'cat63', 'cat64', 'cat65', 'cat66', 'cat67', 'cat68', 'cat69', 'cat70', 'cat71', 'cat72', 'cat73', 'cat74', 'cat75', 'cat76', 'cat77', 'cat78', 'cat79', 'cat80', 'cat81', 'cat82', 'cat83', 'cat84', 'cat85', 'cat86', 'cat87', 'cat88', 'cat89', 'cat90', 'cat91', 'cat92', 'cat93', 'cat94', 'cat95', 'cat96', 'cat97', 'cat98', 'cat99', 'cat100', 'cat101', 'cat102', 'cat103', 'cat104', 'cat105', 'cat106', 'cat107', 'cat108', 'cat109', 'cat110', 'cat111', 'cat112', 'cat113', 'cat114', 'cat115', 'cat116'])\n"
     ]
    }
   ],
   "source": [
    "cat_features = [col for col in train.columns if col.startswith(\"cat\")]\n",
    "print(\"Categorical columns:\", cat_features)"
   ]
  },
  {
   "cell_type": "code",
   "execution_count": 4,
   "metadata": {
    "collapsed": false
   },
   "outputs": [],
   "source": [
    "# Encode the labels to int\n",
    "for col in cat_features:\n",
    "    encd = preprocessing.LabelEncoder()\n",
    "    encd.fit(train[col].value_counts().index.union(test[col].value_counts().index))\n",
    "    train[col] = encd.transform(train[col])\n",
    "    test[col] = encd.transform(test[col])"
   ]
  },
  {
   "cell_type": "code",
   "execution_count": 39,
   "metadata": {
    "collapsed": false
   },
   "outputs": [],
   "source": [
    "dtrain = xgb.DMatrix(train.drop(\"loss\", 1), train.loss)"
   ]
  },
  {
   "cell_type": "code",
   "execution_count": 158,
   "metadata": {
    "collapsed": false
   },
   "outputs": [],
   "source": [
    "params = {'objective':\"reg:linear\", 'silent': True, 'max_depth': 7, 'min_child_weight': 1,\n",
    "          'colsample_bytree': 0.8, 'eta': 0.4, 'eval_metric':'mae', \"n_estimators\": 20,\n",
    "          \"gamma\": 0.}"
   ]
  },
  {
   "cell_type": "code",
   "execution_count": 159,
   "metadata": {
    "collapsed": false
   },
   "outputs": [
    {
     "name": "stdout",
     "output_type": "stream",
     "text": [
      "   test-mae-mean  test-mae-std  train-mae-mean  train-mae-std\n",
      "0    1905.146942     11.911403     1903.169373       2.531280\n",
      "1    1463.320434      5.301255     1456.685700       4.896339\n",
      "2    1323.008972      4.868719     1309.430877       3.010983\n",
      "3    1279.792847      4.003689     1260.996765       2.606099\n",
      "4    1262.872345      3.497885     1238.884644       1.498404\n",
      "5    1257.204712      1.176175     1228.336701       2.173101\n",
      "6    1252.748505      1.938202     1220.486236       1.273407\n",
      "7    1248.768250      2.299182     1213.167877       1.486372\n",
      "8    1243.935821      1.428109     1204.304962       1.094887\n",
      "9    1239.051422      1.339732     1196.252471       2.455023\n"
     ]
    }
   ],
   "source": [
    "cvresult = xgb.cv(params, dtrain, nfold=4)\n",
    "print(cvresult)"
   ]
  },
  {
   "cell_type": "code",
   "execution_count": 160,
   "metadata": {
    "collapsed": false
   },
   "outputs": [
    {
     "name": "stdout",
     "output_type": "stream",
     "text": [
      "('optimum number of trees required', 10)\n"
     ]
    }
   ],
   "source": [
    "print(\"optimum number of trees required\", cvresult.shape[0])\n",
    "params[\"n_estimators\"] = cvresult.shape[0]"
   ]
  },
  {
   "cell_type": "code",
   "execution_count": 161,
   "metadata": {
    "collapsed": false
   },
   "outputs": [
    {
     "name": "stdout",
     "output_type": "stream",
     "text": [
      "[0]\ttrain-mae:1900.89\n",
      "[1]\ttrain-mae:1458.82\n",
      "[2]\ttrain-mae:1322.05\n",
      "[3]\ttrain-mae:1272.51\n",
      "[4]\ttrain-mae:1246.57\n",
      "[5]\ttrain-mae:1232.09\n",
      "[6]\ttrain-mae:1222.63\n",
      "[7]\ttrain-mae:1217.42\n",
      "[8]\ttrain-mae:1208.95\n",
      "[9]\ttrain-mae:1201.34\n",
      "[10]\ttrain-mae:1193.9\n",
      "[11]\ttrain-mae:1187.89\n",
      "[12]\ttrain-mae:1181.57\n",
      "[13]\ttrain-mae:1175.29\n",
      "[14]\ttrain-mae:1170.6\n",
      "[15]\ttrain-mae:1167.34\n",
      "[16]\ttrain-mae:1163.03\n",
      "[17]\ttrain-mae:1159.51\n",
      "[18]\ttrain-mae:1156.39\n",
      "[19]\ttrain-mae:1153.22\n",
      "[20]\ttrain-mae:1151.39\n",
      "[21]\ttrain-mae:1150.11\n",
      "[22]\ttrain-mae:1146.04\n",
      "[23]\ttrain-mae:1142.72\n",
      "[24]\ttrain-mae:1140.61\n",
      "[25]\ttrain-mae:1138.87\n",
      "[26]\ttrain-mae:1136.79\n",
      "[27]\ttrain-mae:1134\n",
      "[28]\ttrain-mae:1132.51\n",
      "[29]\ttrain-mae:1130.02\n",
      "[30]\ttrain-mae:1128.57\n",
      "[31]\ttrain-mae:1125.81\n",
      "[32]\ttrain-mae:1123.47\n",
      "[33]\ttrain-mae:1122.15\n",
      "[34]\ttrain-mae:1120.38\n",
      "[35]\ttrain-mae:1118.84\n",
      "[36]\ttrain-mae:1117.46\n",
      "[37]\ttrain-mae:1115.57\n",
      "[38]\ttrain-mae:1114.5\n",
      "[39]\ttrain-mae:1113.57\n",
      "[40]\ttrain-mae:1112.79\n",
      "[41]\ttrain-mae:1111.16\n",
      "[42]\ttrain-mae:1109.13\n",
      "[43]\ttrain-mae:1107.32\n",
      "[44]\ttrain-mae:1106.72\n",
      "[45]\ttrain-mae:1105.02\n",
      "[46]\ttrain-mae:1103.3\n",
      "[47]\ttrain-mae:1101.97\n",
      "[48]\ttrain-mae:1101.52\n",
      "[49]\ttrain-mae:1100.71\n"
     ]
    }
   ],
   "source": [
    "pred_test = 0.\n",
    "num_runs = 1\n",
    "for i in range(num_runs):\n",
    "    params['seed'] = i\n",
    "    clf = xgb.train(params, dtrain, num_boost_round=50, evals=[(dtrain, \"train\")])\n",
    "    dtest = xgb.DMatrix(test)\n",
    "    pred_test += clf.predict(dtest)"
   ]
  },
  {
   "cell_type": "code",
   "execution_count": 163,
   "metadata": {
    "collapsed": false
   },
   "outputs": [],
   "source": [
    "import datetime\n",
    "result = pd.DataFrame({\"id\": test.index, \"loss\": pred_test / num_runs})\n",
    "result.to_csv(\"result{:%Y%m%d%H}.csv\".format(datetime.datetime.now()), index=None)"
   ]
  },
  {
   "cell_type": "markdown",
   "metadata": {},
   "source": [
    "# Using XGBRegressor and important features"
   ]
  },
  {
   "cell_type": "code",
   "execution_count": 50,
   "metadata": {
    "collapsed": false
   },
   "outputs": [],
   "source": [
    "from sklearn.grid_search import GridSearchCV\n",
    "from xgboost import XGBRegressor"
   ]
  },
  {
   "cell_type": "code",
   "execution_count": 62,
   "metadata": {
    "collapsed": false
   },
   "outputs": [
    {
     "data": {
      "text/plain": [
       "'mae'"
      ]
     },
     "execution_count": 62,
     "metadata": {},
     "output_type": "execute_result"
    }
   ],
   "source": [
    "params_reg = dict(params)\n",
    "params_reg.pop(\"eta\")\n",
    "params_reg.pop('eval_metric')"
   ]
  },
  {
   "cell_type": "code",
   "execution_count": 63,
   "metadata": {
    "collapsed": false
   },
   "outputs": [
    {
     "data": {
      "text/plain": [
       "XGBRegressor(base_score=0.1, colsample_bylevel=1, colsample_bytree=0.7,\n",
       "       gamma=0, learning_rate=0.1, max_delta_step=0, max_depth=7,\n",
       "       min_child_weight=3, missing=None, n_estimators=10, nthread=-1,\n",
       "       objective='reg:linear', reg_alpha=0, reg_lambda=1,\n",
       "       scale_pos_weight=1, seed=1, silent=True, subsample=1)"
      ]
     },
     "execution_count": 63,
     "metadata": {},
     "output_type": "execute_result"
    }
   ],
   "source": [
    "params[\"n_estimators\"] = cvresult.shape[0]\n",
    "reg = XGBRegressor(**params_reg)\n",
    "reg.fit(train.drop(\"loss\", 1), train.loss)"
   ]
  },
  {
   "cell_type": "code",
   "execution_count": 65,
   "metadata": {
    "collapsed": false
   },
   "outputs": [],
   "source": [
    "train_predprob = reg.score"
   ]
  },
  {
   "cell_type": "code",
   "execution_count": 69,
   "metadata": {
    "collapsed": false
   },
   "outputs": [],
   "source": [
    "reg_booster = reg.booster()"
   ]
  },
  {
   "cell_type": "code",
   "execution_count": 73,
   "metadata": {
    "collapsed": false
   },
   "outputs": [
    {
     "data": {
      "text/plain": [
       "<matplotlib.axes._subplots.AxesSubplot at 0x7fb13e156110>"
      ]
     },
     "execution_count": 73,
     "metadata": {},
     "output_type": "execute_result"
    },
    {
     "data": {
      "image/png": "[encoded data removed]",
      "text/plain": [
       "<matplotlib.figure.Figure at 0x7fb13f1e8ed0>"
      ]
     },
     "metadata": {},
     "output_type": "display_data"
    }
   ],
   "source": [
    "figsize(15, 5)\n",
    "feat_imp = pd.Series(reg.booster().get_fscore()).sort_values(ascending=False)\n",
    "feat_imp.plot(kind='bar', title='Feature Importances')"
   ]
  },
  {
   "cell_type": "code",
   "execution_count": 76,
   "metadata": {
    "collapsed": false
   },
   "outputs": [
    {
     "name": "stdout",
     "output_type": "stream",
     "text": [
      "('important features:', ['cont7', 'cont2', 'cat101', 'cat81', 'cont12', 'cont11', 'cont3', 'cat57', 'cont14', 'cat12', 'cat114', 'cat1', 'cat100', 'cat103', 'cat94', 'cont6', 'cat111', 'cat72', 'cont13', 'cat87', 'cont4', 'cont8', 'cont1', 'cat116', 'cont10', 'cat80', 'cat105'])\n"
     ]
    }
   ],
   "source": [
    "important_features = list(feat_imp[feat_imp > 10].index)\n",
    "print(\"important features:\", important_features)"
   ]
  },
  {
   "cell_type": "code",
   "execution_count": 101,
   "metadata": {
    "collapsed": false
   },
   "outputs": [
    {
     "name": "stdout",
     "output_type": "stream",
     "text": [
      "   test-mae-mean  test-mae-std  train-mae-mean  train-mae-std\n",
      "0    2160.441260     19.120460     2159.468066       3.444062\n",
      "1    1680.825684     15.022032     1678.380566       5.261680\n",
      "2    1455.502563     10.730561     1448.698169       4.403129\n",
      "3    1355.931348     10.572622     1344.984033       3.739917\n",
      "4    1314.453589      9.097641     1299.844995       6.471639\n",
      "5    1293.767578      8.968932     1275.442920       5.117776\n",
      "6    1284.784619      4.857665     1263.078711       3.802473\n",
      "7    1279.994311      4.611063     1255.296899       3.882028\n",
      "8    1277.066064      3.131211     1249.505688       3.570437\n",
      "9    1274.872363      3.483292     1244.384522       3.196721\n"
     ]
    }
   ],
   "source": [
    "dtrain_imp = xgb.DMatrix(train[important_features], train.loss)\n",
    "cvresult = xgb.cv(params, dtrain_imp, nfold=5)\n",
    "print(cvresult)"
   ]
  },
  {
   "cell_type": "code",
   "execution_count": 103,
   "metadata": {
    "collapsed": false
   },
   "outputs": [
    {
     "name": "stdout",
     "output_type": "stream",
     "text": [
      "[0]\ttrain-mae:2155.91\n",
      "[1]\ttrain-mae:1667.49\n",
      "[2]\ttrain-mae:1438.01\n",
      "[3]\ttrain-mae:1332.87\n",
      "[4]\ttrain-mae:1291.53\n",
      "[5]\ttrain-mae:1269.37\n",
      "[6]\ttrain-mae:1255.77\n",
      "[7]\ttrain-mae:1248.53\n",
      "[8]\ttrain-mae:1245.13\n",
      "[9]\ttrain-mae:1241.28\n",
      "[10]\ttrain-mae:1238.5\n",
      "[11]\ttrain-mae:1229.99\n",
      "[12]\ttrain-mae:1226.32\n",
      "[13]\ttrain-mae:1220.64\n",
      "[14]\ttrain-mae:1216.2\n",
      "[15]\ttrain-mae:1213.43\n",
      "[16]\ttrain-mae:1208.11\n",
      "[17]\ttrain-mae:1205.46\n",
      "[18]\ttrain-mae:1202.17\n",
      "[19]\ttrain-mae:1198.59\n",
      "[20]\ttrain-mae:1196.26\n",
      "[21]\ttrain-mae:1192.48\n",
      "[22]\ttrain-mae:1189.74\n",
      "[23]\ttrain-mae:1187.8\n",
      "[24]\ttrain-mae:1184.99\n",
      "[25]\ttrain-mae:1182.99\n",
      "[26]\ttrain-mae:1180.84\n",
      "[27]\ttrain-mae:1179.2\n",
      "[28]\ttrain-mae:1177.22\n",
      "[29]\ttrain-mae:1175.98\n",
      "[30]\ttrain-mae:1174.79\n",
      "[31]\ttrain-mae:1173.38\n",
      "[32]\ttrain-mae:1172.22\n",
      "[33]\ttrain-mae:1170.65\n",
      "[34]\ttrain-mae:1169.82\n",
      "[35]\ttrain-mae:1167.82\n",
      "[36]\ttrain-mae:1167.11\n",
      "[37]\ttrain-mae:1166.23\n",
      "[38]\ttrain-mae:1164.59\n",
      "[39]\ttrain-mae:1162.8\n",
      "[40]\ttrain-mae:1161.88\n",
      "[41]\ttrain-mae:1161.1\n",
      "[42]\ttrain-mae:1159.88\n",
      "[43]\ttrain-mae:1158.74\n",
      "[44]\ttrain-mae:1158.22\n",
      "[45]\ttrain-mae:1157.61\n",
      "[46]\ttrain-mae:1157.21\n",
      "[47]\ttrain-mae:1156.67\n",
      "[48]\ttrain-mae:1155.32\n",
      "[49]\ttrain-mae:1154.69\n"
     ]
    }
   ],
   "source": [
    "params2 = {'base_score': 0.1, 'colsample_bytree': 0.9,\n",
    " 'eta': 0.3,\n",
    " 'eval_metric': 'mae',\n",
    " 'max_depth': 7,\n",
    " 'min_child_weight': 3,\n",
    " 'n_estimators': 10,\n",
    " 'objective': 'reg:linear',\n",
    " 'seed': 1,\n",
    " 'silent': True}\n",
    "regb = xgb.train(params2, dtrain_imp, num_boost_round=50, evals=[(dtrain_imp, \"train\")])"
   ]
  },
  {
   "cell_type": "code",
   "execution_count": 81,
   "metadata": {
    "collapsed": false
   },
   "outputs": [
    {
     "data": {
      "text/plain": [
       "{'base_score': 0.1,\n",
       " 'colsample_bytree': 0.7,\n",
       " 'eta': 0.05,\n",
       " 'eval_metric': 'mae',\n",
       " 'max_depth': 7,\n",
       " 'min_child_weight': 3,\n",
       " 'n_estimators': 10,\n",
       " 'objective': 'reg:linear',\n",
       " 'seed': 1,\n",
       " 'silent': True}"
      ]
     },
     "execution_count": 81,
     "metadata": {},
     "output_type": "execute_result"
    }
   ],
   "source": [
    "params = "
   ]
  },
  {
   "cell_type": "code",
   "execution_count": null,
   "metadata": {
    "collapsed": true
   },
   "outputs": [],
   "source": []
  }
 ],
 "metadata": {
  "kernelspec": {
   "display_name": "Python 2",
   "language": "python",
   "name": "python2"
  },
  "language_info": {
   "codemirror_mode": {
    "name": "ipython",
    "version": 2
   },
   "file_extension": ".py",
   "mimetype": "text/x-python",
   "name": "python",
   "nbconvert_exporter": "python",
   "pygments_lexer": "ipython2",
   "version": "2.7.6"
  }
 },
 "nbformat": 4,
 "nbformat_minor": 0
}
