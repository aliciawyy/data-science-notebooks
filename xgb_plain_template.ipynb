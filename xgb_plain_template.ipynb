{
 "cells": [
  {
   "cell_type": "code",
   "execution_count": 1,
   "metadata": {
    "collapsed": false
   },
   "outputs": [
    {
     "name": "stderr",
     "output_type": "stream",
     "text": [
      "/usr/local/lib/python2.7/dist-packages/sklearn/cross_validation.py:44: DeprecationWarning: This module was deprecated in version 0.18 in favor of the model_selection module into which all the refactored classes and functions are moved. Also note that the interface of the new CV iterators are different from that of this module. This module will be removed in 0.20.\n",
      "  \"This module will be removed in 0.20.\", DeprecationWarning)\n"
     ]
    }
   ],
   "source": [
    "import numpy as np\n",
    "import pandas as pd\n",
    "from sklearn.metrics import mean_absolute_error\n",
    "from sklearn.model_selection import KFold\n",
    "from sklearn import preprocessing\n",
    "from IPython.core.pylabtools import figsize\n",
    "import xgboost as xgb\n",
    "%matplotlib inline\n",
    "\n",
    "from os import path\n",
    "to_filename = lambda name: path.join(\"..\", \"data\", \"allstate\", name +\".csv\")"
   ]
  },
  {
   "cell_type": "code",
   "execution_count": 2,
   "metadata": {
    "collapsed": false
   },
   "outputs": [
    {
     "name": "stdout",
     "output_type": "stream",
     "text": [
      "shape: train (188318, 131), test (125546, 130)\n",
      "   cat1 cat2 cat3 cat4 cat5 cat6 cat7 cat8 cat9 cat10   ...        cont6  \\\n",
      "id                                                      ...                \n",
      "1     A    B    A    B    A    A    A    A    B     A   ...     0.718367   \n",
      "2     A    B    A    A    A    A    A    A    B     B   ...     0.438917   \n",
      "\n",
      "       cont7    cont8    cont9   cont10    cont11    cont12    cont13  \\\n",
      "id                                                                      \n",
      "1   0.335060  0.30260  0.67135  0.83510  0.569745  0.594646  0.822493   \n",
      "2   0.436585  0.60087  0.35127  0.43919  0.338312  0.366307  0.611431   \n",
      "\n",
      "      cont14     loss  \n",
      "id                     \n",
      "1   0.714843  2213.18  \n",
      "2   0.304496  1283.60  \n",
      "\n",
      "[2 rows x 131 columns]\n"
     ]
    }
   ],
   "source": [
    "train = pd.read_csv(to_filename(\"train\"), index_col=0)\n",
    "test = pd.read_csv(to_filename(\"test\"), index_col=0)\n",
    "print(\"shape: train {}, test {}\".format(train.shape, test.shape))\n",
    "print(train.head(2))"
   ]
  },
  {
   "cell_type": "code",
   "execution_count": 3,
   "metadata": {
    "collapsed": false
   },
   "outputs": [
    {
     "name": "stdout",
     "output_type": "stream",
     "text": [
      "('Categorical columns:', ['cat1', 'cat2', 'cat3', 'cat4', 'cat5', 'cat6', 'cat7', 'cat8', 'cat9', 'cat10', 'cat11', 'cat12', 'cat13', 'cat14', 'cat15', 'cat16', 'cat17', 'cat18', 'cat19', 'cat20', 'cat21', 'cat22', 'cat23', 'cat24', 'cat25', 'cat26', 'cat27', 'cat28', 'cat29', 'cat30', 'cat31', 'cat32', 'cat33', 'cat34', 'cat35', 'cat36', 'cat37', 'cat38', 'cat39', 'cat40', 'cat41', 'cat42', 'cat43', 'cat44', 'cat45', 'cat46', 'cat47', 'cat48', 'cat49', 'cat50', 'cat51', 'cat52', 'cat53', 'cat54', 'cat55', 'cat56', 'cat57', 'cat58', 'cat59', 'cat60', 'cat61', 'cat62', 'cat63', 'cat64', 'cat65', 'cat66', 'cat67', 'cat68', 'cat69', 'cat70', 'cat71', 'cat72', 'cat73', 'cat74', 'cat75', 'cat76', 'cat77', 'cat78', 'cat79', 'cat80', 'cat81', 'cat82', 'cat83', 'cat84', 'cat85', 'cat86', 'cat87', 'cat88', 'cat89', 'cat90', 'cat91', 'cat92', 'cat93', 'cat94', 'cat95', 'cat96', 'cat97', 'cat98', 'cat99', 'cat100', 'cat101', 'cat102', 'cat103', 'cat104', 'cat105', 'cat106', 'cat107', 'cat108', 'cat109', 'cat110', 'cat111', 'cat112', 'cat113', 'cat114', 'cat115', 'cat116'])\n"
     ]
    }
   ],
   "source": [
    "# preprocess categorical features\n",
    "cat_features = [col for col in train.columns if col.startswith(\"cat\")]\n",
    "print(\"Categorical columns:\", cat_features)\n",
    "\n",
    "for col in cat_features:\n",
    "    encd = preprocessing.LabelEncoder()\n",
    "    encd.fit(train[col].value_counts().index.union(test[col].value_counts().index))\n",
    "    train[col] = encd.transform(train[col])\n",
    "    test[col] = encd.transform(test[col])"
   ]
  },
  {
   "cell_type": "code",
   "execution_count": 4,
   "metadata": {
    "collapsed": false
   },
   "outputs": [
    {
     "name": "stdout",
     "output_type": "stream",
     "text": [
      "('Numerical columns:', ['cont1', 'cont2', 'cont3', 'cont4', 'cont5', 'cont6', 'cont7', 'cont8', 'cont9', 'cont10', 'cont11', 'cont12', 'cont13', 'cont14'])\n"
     ]
    }
   ],
   "source": [
    "# preprocess numerical features\n",
    "num_features = [col for col in train.columns if col.startswith(\"cont\")]\n",
    "print(\"Numerical columns:\", num_features)\n",
    "\n",
    "for col in num_features:\n",
    "    sc = preprocessing.StandardScaler()\n",
    "    train[col] = sc.fit_transform(train[[col]])\n",
    "    test[col] = sc.transform(test[[col]])"
   ]
  },
  {
   "cell_type": "code",
   "execution_count": null,
   "metadata": {
    "collapsed": false
   },
   "outputs": [],
   "source": []
  },
  {
   "cell_type": "code",
   "execution_count": 5,
   "metadata": {
    "collapsed": true
   },
   "outputs": [],
   "source": [
    "response = np.log(train.loss)\n",
    "mean_resp = np.mean(response)\n",
    "std_resp = np.std(response)"
   ]
  },
  {
   "cell_type": "code",
   "execution_count": 7,
   "metadata": {
    "collapsed": false
   },
   "outputs": [],
   "source": [
    "dtrain = xgb.DMatrix(train.drop(\"loss\", 1), (response - mean_resp) / std_resp)\n",
    "dtest = xgb.DMatrix(test)\n",
    "\n",
    "def restore_pred(y):\n",
    "    return np.exp(y * std_resp + mean_resp)"
   ]
  },
  {
   "cell_type": "code",
   "execution_count": 57,
   "metadata": {
    "collapsed": false
   },
   "outputs": [],
   "source": [
    "params = {'objective':\"reg:linear\", 'silent': True, 'max_depth': 7, 'min_child_weight': 1,\n",
    "          'colsample_bytree': .8, \"subsample\": 1., 'eta': 0.5, 'eval_metric':'mae', \"n_estimators\": 20,\n",
    "          \"gamma\": 0.2, \"lambda\": 0.8}"
   ]
  },
  {
   "cell_type": "code",
   "execution_count": 56,
   "metadata": {
    "collapsed": false
   },
   "outputs": [
    {
     "name": "stdout",
     "output_type": "stream",
     "text": [
      "    test-mae-mean  test-mae-std  train-mae-mean  train-mae-std\n",
      "0        0.698381      0.003329        0.696349       0.001023\n",
      "1        0.619613      0.002812        0.615646       0.001200\n",
      "2        0.583490      0.002358        0.577761       0.000464\n",
      "3        0.563530      0.002273        0.556600       0.000272\n",
      "4        0.554749      0.002368        0.545802       0.000574\n",
      "5        0.547769      0.001749        0.537187       0.000420\n",
      "6        0.542026      0.001499        0.529935       0.000045\n",
      "7        0.538884      0.001951        0.525427       0.000735\n",
      "8        0.537015      0.001656        0.522186       0.000948\n",
      "9        0.535380      0.001730        0.519022       0.001042\n",
      "10       0.534170      0.001853        0.516274       0.001045\n",
      "11       0.533040      0.001691        0.514070       0.000798\n",
      "12       0.532012      0.001590        0.511809       0.000566\n",
      "13       0.531247      0.001732        0.509839       0.000223\n",
      "14       0.530372      0.002088        0.507654       0.000275\n",
      "15       0.529804      0.001847        0.506017       0.000316\n",
      "16       0.529604      0.001819        0.504677       0.000317\n",
      "17       0.529155      0.001712        0.503357       0.000495\n",
      "18       0.528774      0.001194        0.501889       0.001029\n",
      "19       0.528513      0.001309        0.500754       0.000736\n",
      "20       0.528456      0.001270        0.499495       0.000722\n",
      "21       0.528132      0.001423        0.498147       0.000727\n",
      "22       0.528019      0.001574        0.496923       0.000777\n",
      "23       0.527898      0.001582        0.495813       0.000778\n",
      "24       0.527652      0.001660        0.494574       0.000885\n",
      "25       0.527597      0.001529        0.493600       0.000617\n",
      "26       0.527693      0.001556        0.492705       0.000772\n",
      "27       0.527778      0.001574        0.491803       0.000859\n",
      "28       0.527832      0.001491        0.490887       0.001029\n",
      "29       0.527756      0.001484        0.490119       0.001199\n",
      "30       0.527772      0.001562        0.488909       0.001166\n",
      "31       0.527776      0.001641        0.487833       0.001030\n",
      "32       0.527860      0.001555        0.486901       0.000897\n",
      "33       0.527848      0.001523        0.486188       0.000760\n",
      "34       0.527897      0.001519        0.485413       0.000670\n",
      "35       0.527978      0.001598        0.484550       0.001004\n",
      "36       0.528054      0.001547        0.484005       0.000905\n",
      "37       0.528069      0.001459        0.483147       0.000763\n",
      "38       0.528089      0.001418        0.482417       0.000958\n",
      "39       0.528052      0.001412        0.481586       0.001043\n",
      "40       0.528075      0.001396        0.480868       0.000869\n",
      "41       0.528118      0.001400        0.480027       0.000714\n",
      "42       0.528185      0.001382        0.479192       0.000654\n",
      "43       0.528151      0.001426        0.478143       0.000657\n",
      "44       0.528167      0.001446        0.477208       0.000536\n",
      "45       0.528282      0.001470        0.476501       0.000361\n",
      "46       0.528343      0.001450        0.475771       0.000416\n",
      "47       0.528333      0.001526        0.475102       0.000563\n",
      "48       0.528481      0.001469        0.474507       0.000620\n",
      "49       0.528506      0.001570        0.473620       0.000729\n"
     ]
    }
   ],
   "source": [
    "cvresult = xgb.cv(params, dtrain, nfold=3, num_boost_round=50)\n",
    "print(cvresult)"
   ]
  },
  {
   "cell_type": "code",
   "execution_count": 58,
   "metadata": {
    "collapsed": false,
    "scrolled": false
   },
   "outputs": [
    {
     "name": "stdout",
     "output_type": "stream",
     "text": [
      "[0]\ttrain-mae:0.689675\n",
      "[1]\ttrain-mae:0.611886\n",
      "[2]\ttrain-mae:0.576594\n",
      "[3]\ttrain-mae:0.556592\n",
      "[4]\ttrain-mae:0.545518\n",
      "[5]\ttrain-mae:0.538351\n",
      "[6]\ttrain-mae:0.531078\n",
      "[7]\ttrain-mae:0.527172\n",
      "[8]\ttrain-mae:0.523557\n",
      "[9]\ttrain-mae:0.521493\n",
      "[10]\ttrain-mae:0.519291\n",
      "[11]\ttrain-mae:0.517039\n",
      "[12]\ttrain-mae:0.514944\n",
      "[13]\ttrain-mae:0.512976\n",
      "[14]\ttrain-mae:0.511437\n",
      "[15]\ttrain-mae:0.509878\n",
      "[16]\ttrain-mae:0.50721\n",
      "[17]\ttrain-mae:0.506471\n",
      "[18]\ttrain-mae:0.505359\n",
      "[19]\ttrain-mae:0.504768\n",
      "[20]\ttrain-mae:0.503266\n",
      "[21]\ttrain-mae:0.502134\n",
      "[22]\ttrain-mae:0.501179\n",
      "[23]\ttrain-mae:0.500095\n",
      "[24]\ttrain-mae:0.499169\n",
      "[25]\ttrain-mae:0.498381\n",
      "[26]\ttrain-mae:0.497359\n",
      "[27]\ttrain-mae:0.496509\n",
      "[28]\ttrain-mae:0.495828\n",
      "[29]\ttrain-mae:0.49524\n",
      "[30]\ttrain-mae:0.494205\n",
      "[31]\ttrain-mae:0.493548\n",
      "[32]\ttrain-mae:0.493289\n",
      "('mae', 0, 1092.7710720260943)\n",
      "[0]\ttrain-mae:0.70352\n",
      "[1]\ttrain-mae:0.608753\n",
      "[2]\ttrain-mae:0.573976\n",
      "[3]\ttrain-mae:0.555471\n",
      "[4]\ttrain-mae:0.545287\n",
      "[5]\ttrain-mae:0.538528\n",
      "[6]\ttrain-mae:0.532541\n",
      "[7]\ttrain-mae:0.529008\n",
      "[8]\ttrain-mae:0.525999\n",
      "[9]\ttrain-mae:0.523783\n",
      "[10]\ttrain-mae:0.520625\n",
      "[11]\ttrain-mae:0.518276\n",
      "[12]\ttrain-mae:0.515764\n",
      "[13]\ttrain-mae:0.51289\n",
      "[14]\ttrain-mae:0.511433\n",
      "[15]\ttrain-mae:0.510222\n",
      "[16]\ttrain-mae:0.509057\n",
      "[17]\ttrain-mae:0.507218\n",
      "[18]\ttrain-mae:0.506042\n",
      "[19]\ttrain-mae:0.505104\n",
      "[20]\ttrain-mae:0.504207\n",
      "[21]\ttrain-mae:0.503152\n",
      "[22]\ttrain-mae:0.502321\n",
      "[23]\ttrain-mae:0.501037\n",
      "[24]\ttrain-mae:0.499974\n",
      "[25]\ttrain-mae:0.499065\n",
      "[26]\ttrain-mae:0.498211\n",
      "[27]\ttrain-mae:0.497554\n",
      "[28]\ttrain-mae:0.496721\n",
      "[29]\ttrain-mae:0.495998\n",
      "[30]\ttrain-mae:0.495168\n",
      "[31]\ttrain-mae:0.494424\n",
      "[32]\ttrain-mae:0.493679\n",
      "('mae', 1, 1094.9553085717375)\n",
      "[0]\ttrain-mae:0.694609\n",
      "[1]\ttrain-mae:0.608062\n",
      "[2]\ttrain-mae:0.572771\n",
      "[3]\ttrain-mae:0.554615\n",
      "[4]\ttrain-mae:0.545182\n",
      "[5]\ttrain-mae:0.537128\n",
      "[6]\ttrain-mae:0.531275\n",
      "[7]\ttrain-mae:0.525917\n",
      "[8]\ttrain-mae:0.523314\n",
      "[9]\ttrain-mae:0.521514\n",
      "[10]\ttrain-mae:0.519332\n",
      "[11]\ttrain-mae:0.517206\n",
      "[12]\ttrain-mae:0.515114\n",
      "[13]\ttrain-mae:0.51372\n",
      "[14]\ttrain-mae:0.511791\n",
      "[15]\ttrain-mae:0.510565\n",
      "[16]\ttrain-mae:0.508097\n",
      "[17]\ttrain-mae:0.507375\n",
      "[18]\ttrain-mae:0.506271\n",
      "[19]\ttrain-mae:0.505091\n",
      "[20]\ttrain-mae:0.504094\n",
      "[21]\ttrain-mae:0.503354\n",
      "[22]\ttrain-mae:0.50233\n",
      "[23]\ttrain-mae:0.501405\n",
      "[24]\ttrain-mae:0.500593\n",
      "[25]\ttrain-mae:0.499945\n",
      "[26]\ttrain-mae:0.498933\n",
      "[27]\ttrain-mae:0.498272\n",
      "[28]\ttrain-mae:0.497336\n",
      "[29]\ttrain-mae:0.496837\n",
      "[30]\ttrain-mae:0.495811\n",
      "[31]\ttrain-mae:0.494675\n",
      "[32]\ttrain-mae:0.493932\n",
      "('mae', 2, 1095.480327154085)\n",
      "[0]\ttrain-mae:0.689666\n",
      "[1]\ttrain-mae:0.611746\n",
      "[2]\ttrain-mae:0.574939\n",
      "[3]\ttrain-mae:0.555466\n",
      "[4]\ttrain-mae:0.544632\n",
      "[5]\ttrain-mae:0.538204\n",
      "[6]\ttrain-mae:0.533472\n",
      "[7]\ttrain-mae:0.528007\n",
      "[8]\ttrain-mae:0.524496\n",
      "[9]\ttrain-mae:0.521101\n",
      "[10]\ttrain-mae:0.519199\n",
      "[11]\ttrain-mae:0.517244\n",
      "[12]\ttrain-mae:0.515582\n",
      "[13]\ttrain-mae:0.513704\n",
      "[14]\ttrain-mae:0.512136\n",
      "[15]\ttrain-mae:0.510197\n",
      "[16]\ttrain-mae:0.508816\n",
      "[17]\ttrain-mae:0.507791\n",
      "[18]\ttrain-mae:0.506942\n",
      "[19]\ttrain-mae:0.506084\n",
      "[20]\ttrain-mae:0.505309\n",
      "[21]\ttrain-mae:0.504207\n",
      "[22]\ttrain-mae:0.502447\n",
      "[23]\ttrain-mae:0.501221\n",
      "[24]\ttrain-mae:0.500178\n",
      "[25]\ttrain-mae:0.499495\n",
      "[26]\ttrain-mae:0.498628\n",
      "[27]\ttrain-mae:0.498075\n",
      "[28]\ttrain-mae:0.497527\n",
      "[29]\ttrain-mae:0.496622\n",
      "[30]\ttrain-mae:0.495427\n",
      "[31]\ttrain-mae:0.494446\n",
      "[32]\ttrain-mae:0.493815\n",
      "('mae', 3, 1096.0812474813138)\n",
      "('mae final', 1066.6728168233069)\n"
     ]
    }
   ],
   "source": [
    "pred_test = 0.\n",
    "pred_train = 0.\n",
    "num_runs = 4\n",
    "\n",
    "for i in range(num_runs):\n",
    "    params['seed'] = i * 6\n",
    "    clf = xgb.train(params, dtrain, num_boost_round=33, evals=[(dtrain, \"train\")])\n",
    "    this_pred_train = restore_pred(clf.predict(dtrain))\n",
    "    print(\"mae\",i, mean_absolute_error(train.loss, this_pred_train))\n",
    "    pred_train += this_pred_train\n",
    "    pred_test += restore_pred(clf.predict(dtest))\n",
    "print(\"mae final\",mean_absolute_error(train.loss, pred_train / num_runs))"
   ]
  },
  {
   "cell_type": "code",
   "execution_count": 59,
   "metadata": {
    "collapsed": false
   },
   "outputs": [],
   "source": [
    "import datetime\n",
    "result = pd.DataFrame({\"id\": test.index, \"loss\": pred_test / num_runs})\n",
    "result.to_csv(\"result{:%Y%m%d%H}.csv\".format(datetime.datetime.now()), index=None)"
   ]
  },
  {
   "cell_type": "markdown",
   "metadata": {},
   "source": [
    "# Using XGBRegressor and important features"
   ]
  },
  {
   "cell_type": "code",
   "execution_count": null,
   "metadata": {
    "collapsed": false
   },
   "outputs": [],
   "source": [
    "from sklearn.grid_search import GridSearchCV\n",
    "from xgboost import XGBRegressor"
   ]
  },
  {
   "cell_type": "code",
   "execution_count": null,
   "metadata": {
    "collapsed": false
   },
   "outputs": [],
   "source": [
    "params_reg = dict(params)\n",
    "params_reg.pop(\"eta\")\n",
    "params_reg.pop('eval_metric')"
   ]
  },
  {
   "cell_type": "code",
   "execution_count": null,
   "metadata": {
    "collapsed": false
   },
   "outputs": [],
   "source": [
    "params[\"n_estimators\"] = cvresult.shape[0]\n",
    "reg = XGBRegressor(**params_reg)\n",
    "reg.fit(train.drop(\"loss\", 1), train.loss)"
   ]
  },
  {
   "cell_type": "code",
   "execution_count": null,
   "metadata": {
    "collapsed": false
   },
   "outputs": [],
   "source": [
    "train_predprob = reg.score"
   ]
  },
  {
   "cell_type": "code",
   "execution_count": null,
   "metadata": {
    "collapsed": false
   },
   "outputs": [],
   "source": [
    "reg_booster = reg.booster()"
   ]
  },
  {
   "cell_type": "code",
   "execution_count": null,
   "metadata": {
    "collapsed": false
   },
   "outputs": [],
   "source": [
    "figsize(15, 5)\n",
    "feat_imp = pd.Series(reg.booster().get_fscore()).sort_values(ascending=False)\n",
    "feat_imp.plot(kind='bar', title='Feature Importances')"
   ]
  },
  {
   "cell_type": "code",
   "execution_count": null,
   "metadata": {
    "collapsed": false
   },
   "outputs": [],
   "source": [
    "important_features = list(feat_imp[feat_imp > 10].index)\n",
    "print(\"important features:\", important_features)"
   ]
  },
  {
   "cell_type": "code",
   "execution_count": null,
   "metadata": {
    "collapsed": false
   },
   "outputs": [],
   "source": [
    "dtrain_imp = xgb.DMatrix(train[important_features], train.loss)\n",
    "cvresult = xgb.cv(params, dtrain_imp, nfold=5)\n",
    "print(cvresult)"
   ]
  },
  {
   "cell_type": "code",
   "execution_count": null,
   "metadata": {
    "collapsed": false
   },
   "outputs": [],
   "source": [
    "params2 = {'base_score': 0.1, 'colsample_bytree': 0.9,\n",
    " 'eta': 0.3,\n",
    " 'eval_metric': 'mae',\n",
    " 'max_depth': 7,\n",
    " 'min_child_weight': 3,\n",
    " 'n_estimators': 10,\n",
    " 'objective': 'reg:linear',\n",
    " 'seed': 1,\n",
    " 'silent': True}\n",
    "regb = xgb.train(params2, dtrain_imp, num_boost_round=50, evals=[(dtrain_imp, \"train\")])"
   ]
  },
  {
   "cell_type": "code",
   "execution_count": null,
   "metadata": {
    "collapsed": false
   },
   "outputs": [],
   "source": [
    "params = "
   ]
  },
  {
   "cell_type": "code",
   "execution_count": null,
   "metadata": {
    "collapsed": true
   },
   "outputs": [],
   "source": []
  }
 ],
 "metadata": {
  "kernelspec": {
   "display_name": "Python 2",
   "language": "python",
   "name": "python2"
  },
  "language_info": {
   "codemirror_mode": {
    "name": "ipython",
    "version": 2
   },
   "file_extension": ".py",
   "mimetype": "text/x-python",
   "name": "python",
   "nbconvert_exporter": "python",
   "pygments_lexer": "ipython2",
   "version": "2.7.6"
  }
 },
 "nbformat": 4,
 "nbformat_minor": 0
}
